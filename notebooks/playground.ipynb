{
 "cells": [
  {
   "cell_type": "code",
   "execution_count": null,
   "metadata": {},
   "outputs": [],
   "source": [
    "cd .."
   ]
  },
  {
   "cell_type": "code",
   "execution_count": null,
   "metadata": {},
   "outputs": [],
   "source": [
    "import json\n",
    "from importlib import reload\n",
    "import km.orchestrator.orchestrator as ork\n",
    "import numpy as np\n",
    "import pandas as pd\n",
    "from sklearn.cluster import KMeans\n",
    "from random import shuffle"
   ]
  },
  {
   "cell_type": "code",
   "execution_count": null,
   "metadata": {
    "scrolled": true
   },
   "outputs": [],
   "source": [
    "db_uri = \"sqlite:///km.sqlite\"\n",
    "serialized_model_path = \"serialized_models/lda_model_50.pkl\"\n",
    "orchestrator = ork.Orchestrator(db_uri=db_uri)\n",
    "model = orchestrator.load_model(serialized_model_path)\n",
    "model.explain()"
   ]
  },
  {
   "cell_type": "markdown",
   "metadata": {},
   "source": [
    "# Smarter labeling of users"
   ]
  },
  {
   "cell_type": "code",
   "execution_count": null,
   "metadata": {},
   "outputs": [],
   "source": [
    "!curl -o notebooks/names.csv https://raw.githubusercontent.com/hadley/data-baby-names/master/baby-names.csv"
   ]
  },
  {
   "cell_type": "code",
   "execution_count": null,
   "metadata": {},
   "outputs": [],
   "source": [
    "kmeans = KMeans(25, n_init=8)"
   ]
  },
  {
   "cell_type": "code",
   "execution_count": null,
   "metadata": {},
   "outputs": [],
   "source": [
    "X = [doc.representation for doc in documents]\n",
    "labels = kmeans.fit_predict(X)\n",
    "docs_with_labels = list(zip(documents, labels))"
   ]
  },
  {
   "cell_type": "code",
   "execution_count": null,
   "metadata": {},
   "outputs": [],
   "source": [
    "names = pd.read_csv(\"notebooks/names.csv\")\n",
    "names = names[names.year == 2008].sort_values(\"percent\", ascending=False)\n",
    "names = list(names[names.sex == \"boy\"].iloc[:6].name) + list(names[names.sex == \"girl\"].iloc[:6].name)"
   ]
  },
  {
   "cell_type": "code",
   "execution_count": null,
   "metadata": {},
   "outputs": [],
   "source": [
    "clusters = list(set(labels))\n",
    "shuffle(clusters)\n",
    "users_dict = {}\n",
    "for i in range(len(names)):\n",
    "    user_clusters = clusters[(i*4 % 25): (i*4 + 4)%25]\n",
    "    if i == 6:\n",
    "        user_clusters = [25, 0, 1, 2]\n",
    "    user_docs = []\n",
    "    for cluster in user_clusters:\n",
    "        cluster_docs = [d.id for d, l in docs_with_labels if l == cluster]\n",
    "        cluster_size = len(cluster_docs)\n",
    "        if i < 6:\n",
    "            user_cluster_docs = cluster_docs[:cluster_size // 2]\n",
    "        else:\n",
    "            user_cluster_docs = cluster_docs[cluster_size // 2:]\n",
    "        user_docs.extend(user_cluster_docs)\n",
    "    users_dict[i] = {\"email\": f\"{names[i].lower()}@yourcompany.com\", \"document_ids\": user_docs}"
   ]
  },
  {
   "cell_type": "code",
   "execution_count": null,
   "metadata": {},
   "outputs": [],
   "source": [
    "all_docs = [doc for u, info in users_dict.items() for doc in info[\"document_ids\"]]\n",
    "assert len(set(all_docs)) == len(all_docs)"
   ]
  },
  {
   "cell_type": "code",
   "execution_count": null,
   "metadata": {},
   "outputs": [],
   "source": [
    "json.dump(users_dict, open(\"../data/news-articles/user_labels.json\", \"w\"), indent=4, sort_keys=True)"
   ]
  }
 ],
 "metadata": {
  "kernelspec": {
   "display_name": "Python 3",
   "language": "python",
   "name": "python3"
  },
  "language_info": {
   "codemirror_mode": {
    "name": "ipython",
    "version": 3
   },
   "file_extension": ".py",
   "mimetype": "text/x-python",
   "name": "python",
   "nbconvert_exporter": "python",
   "pygments_lexer": "ipython3",
   "version": "3.7.2"
  }
 },
 "nbformat": 4,
 "nbformat_minor": 2
}
